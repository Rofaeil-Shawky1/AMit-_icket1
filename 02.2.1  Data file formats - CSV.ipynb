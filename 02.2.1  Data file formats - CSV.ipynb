{
 "cells": [
  {
   "cell_type": "markdown",
   "metadata": {},
   "source": [
    "## CSV files"
   ]
  },
  {
   "cell_type": "markdown",
   "metadata": {},
   "source": [
    "CSV files are one of the most commonly used file formats for sharing data.\n",
    "\n",
    "In the `data` folder there is a subfolder called `iwCouncilSpending` that contains several CSV files."
   ]
  },
  {
   "cell_type": "markdown",
   "metadata": {},
   "source": [
    "## Using Windows commands to examine CSV file content\n",
    "\n",
    "The `dir` command will list the contents of a folder, showing the CSV files and the file sizes in bytes (the number after the file date and time)."
   ]
  },
  {
   "cell_type": "code",
   "execution_count": 1,
   "metadata": {
    "run_control": {
     "read_only": false
    }
   },
   "outputs": [
    {
     "name": "stdout",
     "output_type": "stream",
     "text": [
      " Volume in drive C has no label.\n",
      " Volume Serial Number is E48B-49A3\n",
      "\n",
      " Directory of C:\\Users\\Rofa\\Desktop\\New TM351 Windows Assets Directory win-20230423\\Part 02 Notebooks\\Part 02 Notebooks\\data\\iwCouncilSpending\n",
      "\n",
      "02/25/2018  11:04 AM    <DIR>          .\n",
      "02/25/2018  11:04 AM    <DIR>          ..\n",
      "01/19/2018  11:31 PM         1,526,070 csvFromWeb.csv\n",
      "06/27/2014  05:50 AM         1,526,174 PUBLISHED FORMAT - NOV 2013.csv\n",
      "06/27/2014  05:50 AM             1,457 sample1.csv\n",
      "06/27/2014  05:50 AM             1,163 sample2.csv\n",
      "               4 File(s)      3,054,864 bytes\n",
      "               2 Dir(s)   5,722,812,416 bytes free\n"
     ]
    }
   ],
   "source": [
    "'''Original cell code:\n",
    "!ls -l data/iwCouncilSpending\n",
    "'''\n",
    "\n",
    "!dir data\\iwCouncilSpending"
   ]
  },
  {
   "cell_type": "markdown",
   "metadata": {},
   "source": [
    "The file size tells you how large the file is and gives you a clue as to how many lines of data are in the file.\n",
    "\n",
    "One of the easiest ways of previewing a CSV file is from the command line using Powershell `Get-Content` command. By default this previews all lines of the file. If the name of the file you want to preview contains spaces, you must put the whole filepath and filename into a string:\n",
    "\n",
    "* `!powershell -command \"& {Get-Content 'data/iwCouncilSpending/PUBLISHED FORMAT - NOV 2013.csv' -TotalCount n}\"`\n",
    "\n",
    "The `n` switch can be used to change the number of lines shown. \n",
    "\n",
    "For example, the following command previews the first 5 lines:"
   ]
  },
  {
   "cell_type": "code",
   "execution_count": 2,
   "metadata": {
    "run_control": {
     "read_only": false
    }
   },
   "outputs": [
    {
     "name": "stdout",
     "output_type": "stream",
     "text": [
      "Capital or Revenue,Directorate,Transaction Number,Date,Service Area,Expenses Type,Amount,Supplier Name\n",
      "Revenue,Community Wellbeing & Social Care,5105636098,13.11.2013,Public Libraries Central,Marketing Costs,200.00,REDACTED PERSONAL DATA\n",
      "Revenue,Community Wellbeing & Social Care,5105635705,08.11.2013,Drug Misuse - Adults,Charges from Independent Providers,120.00,REDACTED PERSONAL DATA\n",
      "Revenue,Childrens Services,5105637261,20.11.2013,Thompson House Tuition Centre (PRU),Professional Services,240.00,* M BOWDERY T/A SPOTLIGHT BOUTIQUE\n",
      "Revenue,Community Wellbeing & Social Care,5105637069,27.11.2013,Safeguarding Adults,Professional Services,\"5,285.00\",REDACTED PERSONAL DATA\n"
     ]
    }
   ],
   "source": [
    "'''Original cell code:\n",
    "!head -n 5 'data/iwCouncilSpending/PUBLISHED FORMAT - NOV 2013.csv'\n",
    "'''\n",
    "\n",
    "!powershell -command \"& {Get-Content 'data/iwCouncilSpending/PUBLISHED FORMAT - NOV 2013.csv' -TotalCount 5}\""
   ]
  },
  {
   "cell_type": "markdown",
   "metadata": {},
   "source": [
    "We can count the number of lines in the file using `find` command with the `/c` parameter:"
   ]
  },
  {
   "cell_type": "code",
   "execution_count": 3,
   "metadata": {
    "run_control": {
     "read_only": false
    }
   },
   "outputs": [
    {
     "name": "stdout",
     "output_type": "stream",
     "text": [
      "\n",
      "---------- DATA\\IWCOUNCILSPENDING\\PUBLISHED FORMAT - NOV 2013.CSV: 11413\n"
     ]
    }
   ],
   "source": [
    "'''Original cell code:\n",
    "!wc -l 'data/iwCouncilSpending/PUBLISHED FORMAT - NOV 2013.csv'\n",
    "'''\n",
    "\n",
    "!find /c /v \"\" \"data\\iwCouncilSpending\\PUBLISHED FORMAT - NOV 2013.csv\""
   ]
  },
  {
   "cell_type": "markdown",
   "metadata": {},
   "source": [
    "The number output is the number of lines, which are not empty lines. How many lines are in the file you selected?\n",
    "\n",
    "Remember, in a CSV file a data *row* may actually be split over several lines. This means that the line count is an upper bound on the number of rows of data that may be in the file.\n",
    "\n",
    "It always makes sense to get a feel for the size of a file before you try to open it. The Powershell `Get-Content` command is a safe way of previewing the first few lines of the file. It also allows you to preview the last few lines of the file. This can be useful if you want to know whether the file contains a blank line at the end."
   ]
  },
  {
   "cell_type": "code",
   "execution_count": 4,
   "metadata": {
    "run_control": {
     "read_only": false
    }
   },
   "outputs": [
    {
     "name": "stdout",
     "output_type": "stream",
     "text": [
      "Revenue,Economy & Environment,GPC,31.10.2013,Play Development,Operational Equipment,127.99,GLENWAY PRODUCTS LTD\n",
      "Revenue,Economy & Environment,GPC,04.11.2013,Play Development,Operational Equipment,91.99,GREENHAM TRADING LTD\n",
      "Revenue,Economy & Environment,GPC,06.11.2013,Play Development,Travel Expenses,470.70,WIGHTLINK\n",
      "Revenue,Economy & Environment,GPC,13.11.2013,Play Development,Operational Equipment,108.42,WWW.SPORTSFRONT.CO.UK\n",
      "Revenue,Economy & Environment,GPC,14.11.2013,Sports Development - Admin,Training,12.50,WWW.RFU.COM\n"
     ]
    }
   ],
   "source": [
    "'''Original cell code:\n",
    "!tail -n 5 'data/iwCouncilSpending/PUBLISHED FORMAT - NOV 2013.csv'\n",
    "'''\n",
    "\n",
    "!powershell -command \"& {Get-Content 'data/iwCouncilSpending/PUBLISHED FORMAT - NOV 2013.csv' -tail 5}\""
   ]
  },
  {
   "cell_type": "markdown",
   "metadata": {},
   "source": [
    "If we try to read in the CSV file a line at a time, we are likely to run into complications if the value of a cell contains a line break that splits a single data *row* over several *file* lines, so we would benefit from using a library for CSV file handling."
   ]
  },
  {
   "cell_type": "markdown",
   "metadata": {},
   "source": [
    "## CSV and _pandas_\n",
    "\n",
    "The _pandas_ library provides a set of utilities for reading (and writing) CSV files that can cope with issues such as data rows split over more than one file line. The _pandas_ library also contains routines for working with CSV data, and it is these that we shall be using throughout the module.    (The library also provides a function that can read CSV files into a *dict* using the column header as dict keys.) "
   ]
  },
  {
   "cell_type": "code",
   "execution_count": 5,
   "metadata": {
    "run_control": {
     "read_only": false
    }
   },
   "outputs": [
    {
     "name": "stdout",
     "output_type": "stream",
     "text": [
      "Requirement already satisfied: pandas in i:\\ana\\lib\\site-packages (1.4.2)\n",
      "Requirement already satisfied: numpy>=1.18.5 in i:\\ana\\lib\\site-packages (from pandas) (1.21.5)\n",
      "Requirement already satisfied: python-dateutil>=2.8.1 in i:\\ana\\lib\\site-packages (from pandas) (2.8.2)\n",
      "Requirement already satisfied: pytz>=2020.1 in i:\\ana\\lib\\site-packages (from pandas) (2021.3)\n",
      "Requirement already satisfied: six>=1.5 in i:\\ana\\lib\\site-packages (from python-dateutil>=2.8.1->pandas) (1.16.0)\n"
     ]
    }
   ],
   "source": [
    "!pip install pandas\n",
    "import pandas as pd"
   ]
  },
  {
   "cell_type": "markdown",
   "metadata": {},
   "source": [
    "In the `data/iwCouncilSpending/` directory there is a small file  - `sample1.csv` - containing a sample of rows (including a header row) from one of the spending data files. We can import that data into pandas in the following way."
   ]
  },
  {
   "cell_type": "code",
   "execution_count": 6,
   "metadata": {
    "run_control": {
     "read_only": false
    }
   },
   "outputs": [
    {
     "data": {
      "text/html": [
       "<div>\n",
       "<style scoped>\n",
       "    .dataframe tbody tr th:only-of-type {\n",
       "        vertical-align: middle;\n",
       "    }\n",
       "\n",
       "    .dataframe tbody tr th {\n",
       "        vertical-align: top;\n",
       "    }\n",
       "\n",
       "    .dataframe thead th {\n",
       "        text-align: right;\n",
       "    }\n",
       "</style>\n",
       "<table border=\"1\" class=\"dataframe\">\n",
       "  <thead>\n",
       "    <tr style=\"text-align: right;\">\n",
       "      <th></th>\n",
       "      <th>Capital or Revenue</th>\n",
       "      <th>Directorate</th>\n",
       "      <th>Transaction Number</th>\n",
       "      <th>Date</th>\n",
       "      <th>Service Area</th>\n",
       "      <th>Expenses Type</th>\n",
       "      <th>Amount</th>\n",
       "      <th>Supplier Name</th>\n",
       "    </tr>\n",
       "  </thead>\n",
       "  <tbody>\n",
       "    <tr>\n",
       "      <th>0</th>\n",
       "      <td>Revenue</td>\n",
       "      <td>Community Wellbeing &amp; Social Care</td>\n",
       "      <td>5105636098</td>\n",
       "      <td>13.11.2013</td>\n",
       "      <td>Public Libraries Central</td>\n",
       "      <td>Marketing Costs</td>\n",
       "      <td>200.00</td>\n",
       "      <td>REDACTED PERSONAL DATA</td>\n",
       "    </tr>\n",
       "    <tr>\n",
       "      <th>1</th>\n",
       "      <td>Revenue</td>\n",
       "      <td>Community Wellbeing &amp; Social Care</td>\n",
       "      <td>5105635705</td>\n",
       "      <td>08.11.2013</td>\n",
       "      <td>Drug Misuse - Adults</td>\n",
       "      <td>Charges from Independent Providers</td>\n",
       "      <td>120.00</td>\n",
       "      <td>REDACTED PERSONAL DATA</td>\n",
       "    </tr>\n",
       "    <tr>\n",
       "      <th>2</th>\n",
       "      <td>Revenue</td>\n",
       "      <td>Childrens Services</td>\n",
       "      <td>5105637261</td>\n",
       "      <td>20.11.2013</td>\n",
       "      <td>Thompson House Tuition Centre (PRU)</td>\n",
       "      <td>Professional Services</td>\n",
       "      <td>240.00</td>\n",
       "      <td>* M BOWDERY T/A SPOTLIGHT BOUTIQUE</td>\n",
       "    </tr>\n",
       "    <tr>\n",
       "      <th>3</th>\n",
       "      <td>Revenue</td>\n",
       "      <td>Community Wellbeing &amp; Social Care</td>\n",
       "      <td>5105637069</td>\n",
       "      <td>27.11.2013</td>\n",
       "      <td>Safeguarding Adults</td>\n",
       "      <td>Professional Services</td>\n",
       "      <td>5,285.00</td>\n",
       "      <td>REDACTED PERSONAL DATA</td>\n",
       "    </tr>\n",
       "    <tr>\n",
       "      <th>4</th>\n",
       "      <td>Revenue</td>\n",
       "      <td>Community Wellbeing &amp; Social Care</td>\n",
       "      <td>5105637605</td>\n",
       "      <td>22.11.2013</td>\n",
       "      <td>Leaseholds by LA</td>\n",
       "      <td>Accommodation Costs - Leaseholder Payments</td>\n",
       "      <td>695.89</td>\n",
       "      <td>REDACTED PERSONAL DATA</td>\n",
       "    </tr>\n",
       "    <tr>\n",
       "      <th>5</th>\n",
       "      <td>Revenue</td>\n",
       "      <td>Community Wellbeing &amp; Social Care</td>\n",
       "      <td>5105637605</td>\n",
       "      <td>22.11.2013</td>\n",
       "      <td>Leaseholds by LA</td>\n",
       "      <td>Accommodation Costs - Leaseholder Payments</td>\n",
       "      <td>695.89</td>\n",
       "      <td>REDACTED PERSONAL DATA</td>\n",
       "    </tr>\n",
       "    <tr>\n",
       "      <th>6</th>\n",
       "      <td>Revenue</td>\n",
       "      <td>Community Wellbeing &amp; Social Care</td>\n",
       "      <td>5105637605</td>\n",
       "      <td>22.11.2013</td>\n",
       "      <td>Leaseholds by LA</td>\n",
       "      <td>Accommodation Costs - Leaseholder Payments</td>\n",
       "      <td>695.89</td>\n",
       "      <td>REDACTED PERSONAL DATA</td>\n",
       "    </tr>\n",
       "    <tr>\n",
       "      <th>7</th>\n",
       "      <td>Revenue</td>\n",
       "      <td>Community Wellbeing &amp; Social Care</td>\n",
       "      <td>5105637605</td>\n",
       "      <td>22.11.2013</td>\n",
       "      <td>Leaseholds by LA</td>\n",
       "      <td>Accommodation Costs - Leaseholder Payments</td>\n",
       "      <td>695.89</td>\n",
       "      <td>REDACTED PERSONAL DATA</td>\n",
       "    </tr>\n",
       "    <tr>\n",
       "      <th>8</th>\n",
       "      <td>Revenue</td>\n",
       "      <td>Community Wellbeing &amp; Social Care</td>\n",
       "      <td>5105637605</td>\n",
       "      <td>22.11.2013</td>\n",
       "      <td>Leaseholds by LA</td>\n",
       "      <td>Accommodation Costs - Leaseholder Payments</td>\n",
       "      <td>695.89</td>\n",
       "      <td>REDACTED PERSONAL DATA</td>\n",
       "    </tr>\n",
       "  </tbody>\n",
       "</table>\n",
       "</div>"
      ],
      "text/plain": [
       "  Capital or Revenue                        Directorate  Transaction Number  \\\n",
       "0            Revenue  Community Wellbeing & Social Care          5105636098   \n",
       "1            Revenue  Community Wellbeing & Social Care          5105635705   \n",
       "2            Revenue                 Childrens Services          5105637261   \n",
       "3            Revenue  Community Wellbeing & Social Care          5105637069   \n",
       "4            Revenue  Community Wellbeing & Social Care          5105637605   \n",
       "5            Revenue  Community Wellbeing & Social Care          5105637605   \n",
       "6            Revenue  Community Wellbeing & Social Care          5105637605   \n",
       "7            Revenue  Community Wellbeing & Social Care          5105637605   \n",
       "8            Revenue  Community Wellbeing & Social Care          5105637605   \n",
       "\n",
       "         Date                         Service Area  \\\n",
       "0  13.11.2013             Public Libraries Central   \n",
       "1  08.11.2013                 Drug Misuse - Adults   \n",
       "2  20.11.2013  Thompson House Tuition Centre (PRU)   \n",
       "3  27.11.2013                  Safeguarding Adults   \n",
       "4  22.11.2013                     Leaseholds by LA   \n",
       "5  22.11.2013                     Leaseholds by LA   \n",
       "6  22.11.2013                     Leaseholds by LA   \n",
       "7  22.11.2013                     Leaseholds by LA   \n",
       "8  22.11.2013                     Leaseholds by LA   \n",
       "\n",
       "                                Expenses Type    Amount  \\\n",
       "0                             Marketing Costs    200.00   \n",
       "1          Charges from Independent Providers    120.00   \n",
       "2                       Professional Services    240.00   \n",
       "3                       Professional Services  5,285.00   \n",
       "4  Accommodation Costs - Leaseholder Payments    695.89   \n",
       "5  Accommodation Costs - Leaseholder Payments    695.89   \n",
       "6  Accommodation Costs - Leaseholder Payments    695.89   \n",
       "7  Accommodation Costs - Leaseholder Payments    695.89   \n",
       "8  Accommodation Costs - Leaseholder Payments    695.89   \n",
       "\n",
       "                        Supplier Name  \n",
       "0              REDACTED PERSONAL DATA  \n",
       "1              REDACTED PERSONAL DATA  \n",
       "2  * M BOWDERY T/A SPOTLIGHT BOUTIQUE  \n",
       "3              REDACTED PERSONAL DATA  \n",
       "4              REDACTED PERSONAL DATA  \n",
       "5              REDACTED PERSONAL DATA  \n",
       "6              REDACTED PERSONAL DATA  \n",
       "7              REDACTED PERSONAL DATA  \n",
       "8              REDACTED PERSONAL DATA  "
      ]
     },
     "execution_count": 6,
     "metadata": {},
     "output_type": "execute_result"
    }
   ],
   "source": [
    "pd.read_csv('data/iwCouncilSpending/sample1.csv')"
   ]
  },
  {
   "cell_type": "markdown",
   "metadata": {
    "activity": "activity"
   },
   "source": [
    "### Exercise\n",
    "The same directory also contains a file `sample2.csv`. In this exercise use the cells below to first preview the file and then load it in using the _pandas_ `read_csv()` function. What happens this time?"
   ]
  },
  {
   "cell_type": "code",
   "execution_count": 7,
   "metadata": {
    "activity": "activity",
    "run_control": {
     "read_only": false
    }
   },
   "outputs": [],
   "source": [
    "# Preview the sample2.csv file using the command line. \n",
    "#    What else can you learn about it from the command line?\n"
   ]
  },
  {
   "cell_type": "markdown",
   "metadata": {
    "activity": "activity"
   },
   "source": [
    "<div style=\"color:blue\">*Your observations ...*"
   ]
  },
  {
   "cell_type": "code",
   "execution_count": 8,
   "metadata": {
    "activity": "activity",
    "run_control": {
     "read_only": false
    }
   },
   "outputs": [],
   "source": [
    "# Use the pandas read_csv() function to load in sample2.csv. What happens?  \n"
   ]
  },
  {
   "cell_type": "markdown",
   "metadata": {
    "activity": "activity"
   },
   "source": [
    "<div style=\"color:blue\">*Your observations...*"
   ]
  },
  {
   "cell_type": "markdown",
   "metadata": {},
   "source": [
    "## Back to the pandas CSV \n",
    "If you have a large file, you may not want to load it into memory all at once. Instead, you might want to load the data in a row at a time, or a chunk of rows at a time. The `nrows` parameter allows you to define how many rows you want to load in from the start of the file, in much the same way as the command-line `head` command does."
   ]
  },
  {
   "cell_type": "code",
   "execution_count": 9,
   "metadata": {
    "run_control": {
     "read_only": false
    }
   },
   "outputs": [
    {
     "data": {
      "text/html": [
       "<div>\n",
       "<style scoped>\n",
       "    .dataframe tbody tr th:only-of-type {\n",
       "        vertical-align: middle;\n",
       "    }\n",
       "\n",
       "    .dataframe tbody tr th {\n",
       "        vertical-align: top;\n",
       "    }\n",
       "\n",
       "    .dataframe thead th {\n",
       "        text-align: right;\n",
       "    }\n",
       "</style>\n",
       "<table border=\"1\" class=\"dataframe\">\n",
       "  <thead>\n",
       "    <tr style=\"text-align: right;\">\n",
       "      <th></th>\n",
       "      <th>Capital or Revenue</th>\n",
       "      <th>Directorate</th>\n",
       "      <th>Transaction Number</th>\n",
       "      <th>Date</th>\n",
       "      <th>Service Area</th>\n",
       "      <th>Expenses Type</th>\n",
       "      <th>Amount</th>\n",
       "      <th>Supplier Name</th>\n",
       "    </tr>\n",
       "  </thead>\n",
       "  <tbody>\n",
       "    <tr>\n",
       "      <th>0</th>\n",
       "      <td>Revenue</td>\n",
       "      <td>Community Wellbeing &amp; Social Care</td>\n",
       "      <td>5105636098</td>\n",
       "      <td>13.11.2013</td>\n",
       "      <td>Public Libraries Central</td>\n",
       "      <td>Marketing Costs</td>\n",
       "      <td>200.0</td>\n",
       "      <td>REDACTED PERSONAL DATA</td>\n",
       "    </tr>\n",
       "    <tr>\n",
       "      <th>1</th>\n",
       "      <td>Revenue</td>\n",
       "      <td>Community Wellbeing &amp; Social Care</td>\n",
       "      <td>5105635705</td>\n",
       "      <td>08.11.2013</td>\n",
       "      <td>Drug Misuse - Adults</td>\n",
       "      <td>Charges from Independent Providers</td>\n",
       "      <td>120.0</td>\n",
       "      <td>REDACTED PERSONAL DATA</td>\n",
       "    </tr>\n",
       "    <tr>\n",
       "      <th>2</th>\n",
       "      <td>Revenue</td>\n",
       "      <td>Childrens Services</td>\n",
       "      <td>5105637261</td>\n",
       "      <td>20.11.2013</td>\n",
       "      <td>Thompson House Tuition Centre (PRU)</td>\n",
       "      <td>Professional Services</td>\n",
       "      <td>240.0</td>\n",
       "      <td>* M BOWDERY T/A SPOTLIGHT BOUTIQUE</td>\n",
       "    </tr>\n",
       "  </tbody>\n",
       "</table>\n",
       "</div>"
      ],
      "text/plain": [
       "  Capital or Revenue                        Directorate  Transaction Number  \\\n",
       "0            Revenue  Community Wellbeing & Social Care          5105636098   \n",
       "1            Revenue  Community Wellbeing & Social Care          5105635705   \n",
       "2            Revenue                 Childrens Services          5105637261   \n",
       "\n",
       "         Date                         Service Area  \\\n",
       "0  13.11.2013             Public Libraries Central   \n",
       "1  08.11.2013                 Drug Misuse - Adults   \n",
       "2  20.11.2013  Thompson House Tuition Centre (PRU)   \n",
       "\n",
       "                        Expenses Type  Amount  \\\n",
       "0                     Marketing Costs   200.0   \n",
       "1  Charges from Independent Providers   120.0   \n",
       "2               Professional Services   240.0   \n",
       "\n",
       "                        Supplier Name  \n",
       "0              REDACTED PERSONAL DATA  \n",
       "1              REDACTED PERSONAL DATA  \n",
       "2  * M BOWDERY T/A SPOTLIGHT BOUTIQUE  "
      ]
     },
     "execution_count": 9,
     "metadata": {},
     "output_type": "execute_result"
    }
   ],
   "source": [
    "pd.read_csv('data/iwCouncilSpending/sample1.csv', nrows=3)"
   ]
  },
  {
   "cell_type": "markdown",
   "metadata": {},
   "source": [
    "Sometimes you might want to load in the whole file, but handle the rows in chunks. The `chunksize` parameter allows you to read data in from a file *chunksize* rows at a time."
   ]
  },
  {
   "cell_type": "code",
   "execution_count": 10,
   "metadata": {
    "run_control": {
     "read_only": false
    }
   },
   "outputs": [
    {
     "name": "stdout",
     "output_type": "stream",
     "text": [
      "New chunk...\n",
      "   Transaction Number        Date    Amount\n",
      "0          5105636098  13.11.2013    200.00\n",
      "1          5105635705  08.11.2013    120.00\n",
      "2          5105637261  20.11.2013    240.00\n",
      "3          5105637069  27.11.2013  5,285.00\n",
      "New chunk...\n",
      "   Transaction Number        Date  Amount\n",
      "4          5105637605  22.11.2013  695.89\n",
      "5          5105637605  22.11.2013  695.89\n",
      "6          5105637605  22.11.2013  695.89\n",
      "7          5105637605  22.11.2013  695.89\n",
      "New chunk...\n",
      "   Transaction Number        Date  Amount\n",
      "8          5105637605  22.11.2013  695.89\n"
     ]
    }
   ],
   "source": [
    "chunks = pd.read_csv('data/iwCouncilSpending/sample1.csv', chunksize=4)\n",
    "for chunk in chunks:\n",
    "    print('New chunk...')\n",
    "    print(chunk[ ['Transaction Number', 'Date', 'Amount'] ])"
   ]
  },
  {
   "cell_type": "markdown",
   "metadata": {},
   "source": [
    "In many cases, you may find that the data you want to work with is available as a data file on the web. You could download such a file using a web browser, or by any other means, and then load your downloaded copy of the file into the Notebook. Or, you can load a file directly into the Notebook from a web URL using pandas' `read_csv()` function - simply use the file's URL as the filename. "
   ]
  },
  {
   "cell_type": "code",
   "execution_count": 11,
   "metadata": {
    "run_control": {
     "read_only": false
    }
   },
   "outputs": [
    {
     "data": {
      "text/html": [
       "<div>\n",
       "<style scoped>\n",
       "    .dataframe tbody tr th:only-of-type {\n",
       "        vertical-align: middle;\n",
       "    }\n",
       "\n",
       "    .dataframe tbody tr th {\n",
       "        vertical-align: top;\n",
       "    }\n",
       "\n",
       "    .dataframe thead th {\n",
       "        text-align: right;\n",
       "    }\n",
       "</style>\n",
       "<table border=\"1\" class=\"dataframe\">\n",
       "  <thead>\n",
       "    <tr style=\"text-align: right;\">\n",
       "      <th></th>\n",
       "      <th>Capital or Revenue</th>\n",
       "      <th>Directorate</th>\n",
       "      <th>Transaction Number</th>\n",
       "      <th>Date</th>\n",
       "      <th>Service Area</th>\n",
       "      <th>Expenses Type</th>\n",
       "      <th>Amount</th>\n",
       "      <th>Supplier Name</th>\n",
       "    </tr>\n",
       "  </thead>\n",
       "  <tbody>\n",
       "    <tr>\n",
       "      <th>0</th>\n",
       "      <td>Revenue</td>\n",
       "      <td>Community Wellbeing &amp; Social Care</td>\n",
       "      <td>5105636098</td>\n",
       "      <td>13.11.2013</td>\n",
       "      <td>Public Libraries Central</td>\n",
       "      <td>Marketing Costs</td>\n",
       "      <td>200.00</td>\n",
       "      <td>REDACTED PERSONAL DATA</td>\n",
       "    </tr>\n",
       "    <tr>\n",
       "      <th>1</th>\n",
       "      <td>Revenue</td>\n",
       "      <td>Community Wellbeing &amp; Social Care</td>\n",
       "      <td>5105635705</td>\n",
       "      <td>08.11.2013</td>\n",
       "      <td>Drug Misuse - Adults</td>\n",
       "      <td>Charges from Independent Providers</td>\n",
       "      <td>120.00</td>\n",
       "      <td>REDACTED PERSONAL DATA</td>\n",
       "    </tr>\n",
       "    <tr>\n",
       "      <th>2</th>\n",
       "      <td>Revenue</td>\n",
       "      <td>Childrens Services</td>\n",
       "      <td>5105637261</td>\n",
       "      <td>20.11.2013</td>\n",
       "      <td>Thompson House Tuition Centre (PRU)</td>\n",
       "      <td>Professional Services</td>\n",
       "      <td>240.00</td>\n",
       "      <td>* M BOWDERY T/A SPOTLIGHT BOUTIQUE</td>\n",
       "    </tr>\n",
       "    <tr>\n",
       "      <th>3</th>\n",
       "      <td>Revenue</td>\n",
       "      <td>Community Wellbeing &amp; Social Care</td>\n",
       "      <td>5105637069</td>\n",
       "      <td>27.11.2013</td>\n",
       "      <td>Safeguarding Adults</td>\n",
       "      <td>Professional Services</td>\n",
       "      <td>5,285.00</td>\n",
       "      <td>REDACTED PERSONAL DATA</td>\n",
       "    </tr>\n",
       "    <tr>\n",
       "      <th>4</th>\n",
       "      <td>Revenue</td>\n",
       "      <td>Community Wellbeing &amp; Social Care</td>\n",
       "      <td>5105637605</td>\n",
       "      <td>22.11.2013</td>\n",
       "      <td>Leaseholds by LA</td>\n",
       "      <td>Accommodation Costs - Leaseholder Payments</td>\n",
       "      <td>695.89</td>\n",
       "      <td>REDACTED PERSONAL DATA</td>\n",
       "    </tr>\n",
       "  </tbody>\n",
       "</table>\n",
       "</div>"
      ],
      "text/plain": [
       "  Capital or Revenue                        Directorate Transaction Number  \\\n",
       "0            Revenue  Community Wellbeing & Social Care         5105636098   \n",
       "1            Revenue  Community Wellbeing & Social Care         5105635705   \n",
       "2            Revenue                 Childrens Services         5105637261   \n",
       "3            Revenue  Community Wellbeing & Social Care         5105637069   \n",
       "4            Revenue  Community Wellbeing & Social Care         5105637605   \n",
       "\n",
       "         Date                         Service Area  \\\n",
       "0  13.11.2013             Public Libraries Central   \n",
       "1  08.11.2013                 Drug Misuse - Adults   \n",
       "2  20.11.2013  Thompson House Tuition Centre (PRU)   \n",
       "3  27.11.2013                  Safeguarding Adults   \n",
       "4  22.11.2013                     Leaseholds by LA   \n",
       "\n",
       "                                Expenses Type    Amount  \\\n",
       "0                             Marketing Costs    200.00   \n",
       "1          Charges from Independent Providers    120.00   \n",
       "2                       Professional Services    240.00   \n",
       "3                       Professional Services  5,285.00   \n",
       "4  Accommodation Costs - Leaseholder Payments    695.89   \n",
       "\n",
       "                        Supplier Name  \n",
       "0              REDACTED PERSONAL DATA  \n",
       "1              REDACTED PERSONAL DATA  \n",
       "2  * M BOWDERY T/A SPOTLIGHT BOUTIQUE  \n",
       "3              REDACTED PERSONAL DATA  \n",
       "4              REDACTED PERSONAL DATA  "
      ]
     },
     "execution_count": 11,
     "metadata": {},
     "output_type": "execute_result"
    }
   ],
   "source": [
    "#This cell requires internet connection\n",
    "csvFromWeb = pd.read_csv('http://www.iwight.com/documentlibrary/download/november-2013-transparency-data-csv', encoding=\"ISO-8859-1\")\n",
    "csvFromWeb[:5]"
   ]
  },
  {
   "cell_type": "markdown",
   "metadata": {},
   "source": [
    "### Writing DataFrames to CSV files"
   ]
  },
  {
   "cell_type": "markdown",
   "metadata": {},
   "source": [
    "To write the data in a DataFrame out to a CSV file, we can use the `to_csv()` function with a supplied target filename."
   ]
  },
  {
   "cell_type": "code",
   "execution_count": 12,
   "metadata": {
    "run_control": {
     "read_only": false
    }
   },
   "outputs": [
    {
     "data": {
      "text/html": [
       "<div>\n",
       "<style scoped>\n",
       "    .dataframe tbody tr th:only-of-type {\n",
       "        vertical-align: middle;\n",
       "    }\n",
       "\n",
       "    .dataframe tbody tr th {\n",
       "        vertical-align: top;\n",
       "    }\n",
       "\n",
       "    .dataframe thead th {\n",
       "        text-align: right;\n",
       "    }\n",
       "</style>\n",
       "<table border=\"1\" class=\"dataframe\">\n",
       "  <thead>\n",
       "    <tr style=\"text-align: right;\">\n",
       "      <th></th>\n",
       "      <th>Unnamed: 0</th>\n",
       "      <th>Capital or Revenue</th>\n",
       "      <th>Directorate</th>\n",
       "      <th>Transaction Number</th>\n",
       "      <th>Date</th>\n",
       "      <th>Service Area</th>\n",
       "      <th>Expenses Type</th>\n",
       "      <th>Amount</th>\n",
       "      <th>Supplier Name</th>\n",
       "    </tr>\n",
       "  </thead>\n",
       "  <tbody>\n",
       "    <tr>\n",
       "      <th>0</th>\n",
       "      <td>0</td>\n",
       "      <td>Revenue</td>\n",
       "      <td>Community Wellbeing &amp; Social Care</td>\n",
       "      <td>5105636098</td>\n",
       "      <td>13.11.2013</td>\n",
       "      <td>Public Libraries Central</td>\n",
       "      <td>Marketing Costs</td>\n",
       "      <td>200.00</td>\n",
       "      <td>REDACTED PERSONAL DATA</td>\n",
       "    </tr>\n",
       "    <tr>\n",
       "      <th>1</th>\n",
       "      <td>1</td>\n",
       "      <td>Revenue</td>\n",
       "      <td>Community Wellbeing &amp; Social Care</td>\n",
       "      <td>5105635705</td>\n",
       "      <td>08.11.2013</td>\n",
       "      <td>Drug Misuse - Adults</td>\n",
       "      <td>Charges from Independent Providers</td>\n",
       "      <td>120.00</td>\n",
       "      <td>REDACTED PERSONAL DATA</td>\n",
       "    </tr>\n",
       "    <tr>\n",
       "      <th>2</th>\n",
       "      <td>2</td>\n",
       "      <td>Revenue</td>\n",
       "      <td>Childrens Services</td>\n",
       "      <td>5105637261</td>\n",
       "      <td>20.11.2013</td>\n",
       "      <td>Thompson House Tuition Centre (PRU)</td>\n",
       "      <td>Professional Services</td>\n",
       "      <td>240.00</td>\n",
       "      <td>* M BOWDERY T/A SPOTLIGHT BOUTIQUE</td>\n",
       "    </tr>\n",
       "    <tr>\n",
       "      <th>3</th>\n",
       "      <td>3</td>\n",
       "      <td>Revenue</td>\n",
       "      <td>Community Wellbeing &amp; Social Care</td>\n",
       "      <td>5105637069</td>\n",
       "      <td>27.11.2013</td>\n",
       "      <td>Safeguarding Adults</td>\n",
       "      <td>Professional Services</td>\n",
       "      <td>5,285.00</td>\n",
       "      <td>REDACTED PERSONAL DATA</td>\n",
       "    </tr>\n",
       "    <tr>\n",
       "      <th>4</th>\n",
       "      <td>4</td>\n",
       "      <td>Revenue</td>\n",
       "      <td>Community Wellbeing &amp; Social Care</td>\n",
       "      <td>5105637605</td>\n",
       "      <td>22.11.2013</td>\n",
       "      <td>Leaseholds by LA</td>\n",
       "      <td>Accommodation Costs - Leaseholder Payments</td>\n",
       "      <td>695.89</td>\n",
       "      <td>REDACTED PERSONAL DATA</td>\n",
       "    </tr>\n",
       "  </tbody>\n",
       "</table>\n",
       "</div>"
      ],
      "text/plain": [
       "   Unnamed: 0 Capital or Revenue                        Directorate  \\\n",
       "0           0            Revenue  Community Wellbeing & Social Care   \n",
       "1           1            Revenue  Community Wellbeing & Social Care   \n",
       "2           2            Revenue                 Childrens Services   \n",
       "3           3            Revenue  Community Wellbeing & Social Care   \n",
       "4           4            Revenue  Community Wellbeing & Social Care   \n",
       "\n",
       "   Transaction Number        Date                         Service Area  \\\n",
       "0          5105636098  13.11.2013             Public Libraries Central   \n",
       "1          5105635705  08.11.2013                 Drug Misuse - Adults   \n",
       "2          5105637261  20.11.2013  Thompson House Tuition Centre (PRU)   \n",
       "3          5105637069  27.11.2013                  Safeguarding Adults   \n",
       "4          5105637605  22.11.2013                     Leaseholds by LA   \n",
       "\n",
       "                                Expenses Type    Amount  \\\n",
       "0                             Marketing Costs    200.00   \n",
       "1          Charges from Independent Providers    120.00   \n",
       "2                       Professional Services    240.00   \n",
       "3                       Professional Services  5,285.00   \n",
       "4  Accommodation Costs - Leaseholder Payments    695.89   \n",
       "\n",
       "                        Supplier Name  \n",
       "0              REDACTED PERSONAL DATA  \n",
       "1              REDACTED PERSONAL DATA  \n",
       "2  * M BOWDERY T/A SPOTLIGHT BOUTIQUE  \n",
       "3              REDACTED PERSONAL DATA  \n",
       "4              REDACTED PERSONAL DATA  "
      ]
     },
     "execution_count": 12,
     "metadata": {},
     "output_type": "execute_result"
    }
   ],
   "source": [
    "# Write the data frame to the named file.\n",
    "csvFromWeb.to_csv('data/iwCouncilSpending/csvFromWeb.csv')\n",
    "# Show the first 5 lines of the newly written file.\n",
    "pd.read_csv('data/iwCouncilSpending/csvFromWeb.csv', nrows=5)"
   ]
  },
  {
   "cell_type": "markdown",
   "metadata": {},
   "source": [
    "If you examine the output you will see that by default, the index column and header row will be written out - but, both can be disabled."
   ]
  },
  {
   "cell_type": "code",
   "execution_count": 13,
   "metadata": {
    "run_control": {
     "read_only": false
    }
   },
   "outputs": [
    {
     "data": {
      "text/html": [
       "<div>\n",
       "<style scoped>\n",
       "    .dataframe tbody tr th:only-of-type {\n",
       "        vertical-align: middle;\n",
       "    }\n",
       "\n",
       "    .dataframe tbody tr th {\n",
       "        vertical-align: top;\n",
       "    }\n",
       "\n",
       "    .dataframe thead th {\n",
       "        text-align: right;\n",
       "    }\n",
       "</style>\n",
       "<table border=\"1\" class=\"dataframe\">\n",
       "  <thead>\n",
       "    <tr style=\"text-align: right;\">\n",
       "      <th></th>\n",
       "      <th>Revenue</th>\n",
       "      <th>Community Wellbeing &amp; Social Care</th>\n",
       "      <th>5105636098</th>\n",
       "      <th>13.11.2013</th>\n",
       "      <th>Public Libraries Central</th>\n",
       "      <th>Marketing Costs</th>\n",
       "      <th>200.00</th>\n",
       "      <th>REDACTED PERSONAL DATA</th>\n",
       "    </tr>\n",
       "  </thead>\n",
       "  <tbody>\n",
       "    <tr>\n",
       "      <th>0</th>\n",
       "      <td>Revenue</td>\n",
       "      <td>Community Wellbeing &amp; Social Care</td>\n",
       "      <td>5105635705</td>\n",
       "      <td>08.11.2013</td>\n",
       "      <td>Drug Misuse - Adults</td>\n",
       "      <td>Charges from Independent Providers</td>\n",
       "      <td>120.00</td>\n",
       "      <td>REDACTED PERSONAL DATA</td>\n",
       "    </tr>\n",
       "    <tr>\n",
       "      <th>1</th>\n",
       "      <td>Revenue</td>\n",
       "      <td>Childrens Services</td>\n",
       "      <td>5105637261</td>\n",
       "      <td>20.11.2013</td>\n",
       "      <td>Thompson House Tuition Centre (PRU)</td>\n",
       "      <td>Professional Services</td>\n",
       "      <td>240.00</td>\n",
       "      <td>* M BOWDERY T/A SPOTLIGHT BOUTIQUE</td>\n",
       "    </tr>\n",
       "    <tr>\n",
       "      <th>2</th>\n",
       "      <td>Revenue</td>\n",
       "      <td>Community Wellbeing &amp; Social Care</td>\n",
       "      <td>5105637069</td>\n",
       "      <td>27.11.2013</td>\n",
       "      <td>Safeguarding Adults</td>\n",
       "      <td>Professional Services</td>\n",
       "      <td>5,285.00</td>\n",
       "      <td>REDACTED PERSONAL DATA</td>\n",
       "    </tr>\n",
       "    <tr>\n",
       "      <th>3</th>\n",
       "      <td>Revenue</td>\n",
       "      <td>Community Wellbeing &amp; Social Care</td>\n",
       "      <td>5105637605</td>\n",
       "      <td>22.11.2013</td>\n",
       "      <td>Leaseholds by LA</td>\n",
       "      <td>Accommodation Costs - Leaseholder Payments</td>\n",
       "      <td>695.89</td>\n",
       "      <td>REDACTED PERSONAL DATA</td>\n",
       "    </tr>\n",
       "    <tr>\n",
       "      <th>4</th>\n",
       "      <td>Revenue</td>\n",
       "      <td>Community Wellbeing &amp; Social Care</td>\n",
       "      <td>5105637605</td>\n",
       "      <td>22.11.2013</td>\n",
       "      <td>Leaseholds by LA</td>\n",
       "      <td>Accommodation Costs - Leaseholder Payments</td>\n",
       "      <td>695.89</td>\n",
       "      <td>REDACTED PERSONAL DATA</td>\n",
       "    </tr>\n",
       "  </tbody>\n",
       "</table>\n",
       "</div>"
      ],
      "text/plain": [
       "   Revenue  Community Wellbeing & Social Care  5105636098  13.11.2013  \\\n",
       "0  Revenue  Community Wellbeing & Social Care  5105635705  08.11.2013   \n",
       "1  Revenue                 Childrens Services  5105637261  20.11.2013   \n",
       "2  Revenue  Community Wellbeing & Social Care  5105637069  27.11.2013   \n",
       "3  Revenue  Community Wellbeing & Social Care  5105637605  22.11.2013   \n",
       "4  Revenue  Community Wellbeing & Social Care  5105637605  22.11.2013   \n",
       "\n",
       "              Public Libraries Central  \\\n",
       "0                 Drug Misuse - Adults   \n",
       "1  Thompson House Tuition Centre (PRU)   \n",
       "2                  Safeguarding Adults   \n",
       "3                     Leaseholds by LA   \n",
       "4                     Leaseholds by LA   \n",
       "\n",
       "                              Marketing Costs    200.00  \\\n",
       "0          Charges from Independent Providers    120.00   \n",
       "1                       Professional Services    240.00   \n",
       "2                       Professional Services  5,285.00   \n",
       "3  Accommodation Costs - Leaseholder Payments    695.89   \n",
       "4  Accommodation Costs - Leaseholder Payments    695.89   \n",
       "\n",
       "               REDACTED PERSONAL DATA  \n",
       "0              REDACTED PERSONAL DATA  \n",
       "1  * M BOWDERY T/A SPOTLIGHT BOUTIQUE  \n",
       "2              REDACTED PERSONAL DATA  \n",
       "3              REDACTED PERSONAL DATA  \n",
       "4              REDACTED PERSONAL DATA  "
      ]
     },
     "execution_count": 13,
     "metadata": {},
     "output_type": "execute_result"
    }
   ],
   "source": [
    "csvFromWeb.to_csv('data/iwCouncilSpending/csvFromWeb.csv', index=False, header=False)\n",
    "pd.read_csv('data/iwCouncilSpending/csvFromWeb.csv', nrows=5)"
   ]
  },
  {
   "cell_type": "markdown",
   "metadata": {},
   "source": [
    "Ooops! `read_csv()` expects a header line, but we chose not to write one.\n",
    "\n",
    "If we know there is no header line, then we need to declare this when reading the data in."
   ]
  },
  {
   "cell_type": "code",
   "execution_count": 14,
   "metadata": {
    "run_control": {
     "read_only": false
    }
   },
   "outputs": [
    {
     "data": {
      "text/html": [
       "<div>\n",
       "<style scoped>\n",
       "    .dataframe tbody tr th:only-of-type {\n",
       "        vertical-align: middle;\n",
       "    }\n",
       "\n",
       "    .dataframe tbody tr th {\n",
       "        vertical-align: top;\n",
       "    }\n",
       "\n",
       "    .dataframe thead th {\n",
       "        text-align: right;\n",
       "    }\n",
       "</style>\n",
       "<table border=\"1\" class=\"dataframe\">\n",
       "  <thead>\n",
       "    <tr style=\"text-align: right;\">\n",
       "      <th></th>\n",
       "      <th>0</th>\n",
       "      <th>1</th>\n",
       "      <th>2</th>\n",
       "      <th>3</th>\n",
       "      <th>4</th>\n",
       "      <th>5</th>\n",
       "      <th>6</th>\n",
       "      <th>7</th>\n",
       "    </tr>\n",
       "  </thead>\n",
       "  <tbody>\n",
       "    <tr>\n",
       "      <th>0</th>\n",
       "      <td>Revenue</td>\n",
       "      <td>Community Wellbeing &amp; Social Care</td>\n",
       "      <td>5105636098</td>\n",
       "      <td>13.11.2013</td>\n",
       "      <td>Public Libraries Central</td>\n",
       "      <td>Marketing Costs</td>\n",
       "      <td>200.00</td>\n",
       "      <td>REDACTED PERSONAL DATA</td>\n",
       "    </tr>\n",
       "    <tr>\n",
       "      <th>1</th>\n",
       "      <td>Revenue</td>\n",
       "      <td>Community Wellbeing &amp; Social Care</td>\n",
       "      <td>5105635705</td>\n",
       "      <td>08.11.2013</td>\n",
       "      <td>Drug Misuse - Adults</td>\n",
       "      <td>Charges from Independent Providers</td>\n",
       "      <td>120.00</td>\n",
       "      <td>REDACTED PERSONAL DATA</td>\n",
       "    </tr>\n",
       "    <tr>\n",
       "      <th>2</th>\n",
       "      <td>Revenue</td>\n",
       "      <td>Childrens Services</td>\n",
       "      <td>5105637261</td>\n",
       "      <td>20.11.2013</td>\n",
       "      <td>Thompson House Tuition Centre (PRU)</td>\n",
       "      <td>Professional Services</td>\n",
       "      <td>240.00</td>\n",
       "      <td>* M BOWDERY T/A SPOTLIGHT BOUTIQUE</td>\n",
       "    </tr>\n",
       "    <tr>\n",
       "      <th>3</th>\n",
       "      <td>Revenue</td>\n",
       "      <td>Community Wellbeing &amp; Social Care</td>\n",
       "      <td>5105637069</td>\n",
       "      <td>27.11.2013</td>\n",
       "      <td>Safeguarding Adults</td>\n",
       "      <td>Professional Services</td>\n",
       "      <td>5,285.00</td>\n",
       "      <td>REDACTED PERSONAL DATA</td>\n",
       "    </tr>\n",
       "    <tr>\n",
       "      <th>4</th>\n",
       "      <td>Revenue</td>\n",
       "      <td>Community Wellbeing &amp; Social Care</td>\n",
       "      <td>5105637605</td>\n",
       "      <td>22.11.2013</td>\n",
       "      <td>Leaseholds by LA</td>\n",
       "      <td>Accommodation Costs - Leaseholder Payments</td>\n",
       "      <td>695.89</td>\n",
       "      <td>REDACTED PERSONAL DATA</td>\n",
       "    </tr>\n",
       "  </tbody>\n",
       "</table>\n",
       "</div>"
      ],
      "text/plain": [
       "         0                                  1           2           3  \\\n",
       "0  Revenue  Community Wellbeing & Social Care  5105636098  13.11.2013   \n",
       "1  Revenue  Community Wellbeing & Social Care  5105635705  08.11.2013   \n",
       "2  Revenue                 Childrens Services  5105637261  20.11.2013   \n",
       "3  Revenue  Community Wellbeing & Social Care  5105637069  27.11.2013   \n",
       "4  Revenue  Community Wellbeing & Social Care  5105637605  22.11.2013   \n",
       "\n",
       "                                     4  \\\n",
       "0             Public Libraries Central   \n",
       "1                 Drug Misuse - Adults   \n",
       "2  Thompson House Tuition Centre (PRU)   \n",
       "3                  Safeguarding Adults   \n",
       "4                     Leaseholds by LA   \n",
       "\n",
       "                                            5         6  \\\n",
       "0                             Marketing Costs    200.00   \n",
       "1          Charges from Independent Providers    120.00   \n",
       "2                       Professional Services    240.00   \n",
       "3                       Professional Services  5,285.00   \n",
       "4  Accommodation Costs - Leaseholder Payments    695.89   \n",
       "\n",
       "                                    7  \n",
       "0              REDACTED PERSONAL DATA  \n",
       "1              REDACTED PERSONAL DATA  \n",
       "2  * M BOWDERY T/A SPOTLIGHT BOUTIQUE  \n",
       "3              REDACTED PERSONAL DATA  \n",
       "4              REDACTED PERSONAL DATA  "
      ]
     },
     "execution_count": 14,
     "metadata": {},
     "output_type": "execute_result"
    }
   ],
   "source": [
    "pd.read_csv('data/iwCouncilSpending/csvFromWeb.csv', nrows=5, header=None)"
   ]
  },
  {
   "cell_type": "markdown",
   "metadata": {},
   "source": [
    "To add headers to an unheaded CSV file, we can use the `names` parameter to `read_csv()`. \n",
    "\n",
    "We can get a list of the column names from the original file using `columns.values.tolist()`. "
   ]
  },
  {
   "cell_type": "code",
   "execution_count": 15,
   "metadata": {
    "run_control": {
     "read_only": false
    }
   },
   "outputs": [
    {
     "data": {
      "text/plain": [
       "['Capital or Revenue',\n",
       " 'Directorate',\n",
       " 'Transaction Number',\n",
       " 'Date',\n",
       " 'Service Area',\n",
       " 'Expenses Type',\n",
       " 'Amount',\n",
       " 'Supplier Name']"
      ]
     },
     "execution_count": 15,
     "metadata": {},
     "output_type": "execute_result"
    }
   ],
   "source": [
    "origNames = csvFromWeb.columns.values.tolist()\n",
    "origNames"
   ]
  },
  {
   "cell_type": "code",
   "execution_count": 16,
   "metadata": {
    "run_control": {
     "read_only": false
    }
   },
   "outputs": [
    {
     "data": {
      "text/html": [
       "<div>\n",
       "<style scoped>\n",
       "    .dataframe tbody tr th:only-of-type {\n",
       "        vertical-align: middle;\n",
       "    }\n",
       "\n",
       "    .dataframe tbody tr th {\n",
       "        vertical-align: top;\n",
       "    }\n",
       "\n",
       "    .dataframe thead th {\n",
       "        text-align: right;\n",
       "    }\n",
       "</style>\n",
       "<table border=\"1\" class=\"dataframe\">\n",
       "  <thead>\n",
       "    <tr style=\"text-align: right;\">\n",
       "      <th></th>\n",
       "      <th>Capital or Revenue</th>\n",
       "      <th>Directorate</th>\n",
       "      <th>Transaction Number</th>\n",
       "      <th>Date</th>\n",
       "      <th>Service Area</th>\n",
       "      <th>Expenses Type</th>\n",
       "      <th>Amount</th>\n",
       "      <th>Supplier Name</th>\n",
       "    </tr>\n",
       "  </thead>\n",
       "  <tbody>\n",
       "    <tr>\n",
       "      <th>0</th>\n",
       "      <td>Revenue</td>\n",
       "      <td>Community Wellbeing &amp; Social Care</td>\n",
       "      <td>5105636098</td>\n",
       "      <td>13.11.2013</td>\n",
       "      <td>Public Libraries Central</td>\n",
       "      <td>Marketing Costs</td>\n",
       "      <td>200.00</td>\n",
       "      <td>REDACTED PERSONAL DATA</td>\n",
       "    </tr>\n",
       "    <tr>\n",
       "      <th>1</th>\n",
       "      <td>Revenue</td>\n",
       "      <td>Community Wellbeing &amp; Social Care</td>\n",
       "      <td>5105635705</td>\n",
       "      <td>08.11.2013</td>\n",
       "      <td>Drug Misuse - Adults</td>\n",
       "      <td>Charges from Independent Providers</td>\n",
       "      <td>120.00</td>\n",
       "      <td>REDACTED PERSONAL DATA</td>\n",
       "    </tr>\n",
       "    <tr>\n",
       "      <th>2</th>\n",
       "      <td>Revenue</td>\n",
       "      <td>Childrens Services</td>\n",
       "      <td>5105637261</td>\n",
       "      <td>20.11.2013</td>\n",
       "      <td>Thompson House Tuition Centre (PRU)</td>\n",
       "      <td>Professional Services</td>\n",
       "      <td>240.00</td>\n",
       "      <td>* M BOWDERY T/A SPOTLIGHT BOUTIQUE</td>\n",
       "    </tr>\n",
       "    <tr>\n",
       "      <th>3</th>\n",
       "      <td>Revenue</td>\n",
       "      <td>Community Wellbeing &amp; Social Care</td>\n",
       "      <td>5105637069</td>\n",
       "      <td>27.11.2013</td>\n",
       "      <td>Safeguarding Adults</td>\n",
       "      <td>Professional Services</td>\n",
       "      <td>5,285.00</td>\n",
       "      <td>REDACTED PERSONAL DATA</td>\n",
       "    </tr>\n",
       "    <tr>\n",
       "      <th>4</th>\n",
       "      <td>Revenue</td>\n",
       "      <td>Community Wellbeing &amp; Social Care</td>\n",
       "      <td>5105637605</td>\n",
       "      <td>22.11.2013</td>\n",
       "      <td>Leaseholds by LA</td>\n",
       "      <td>Accommodation Costs - Leaseholder Payments</td>\n",
       "      <td>695.89</td>\n",
       "      <td>REDACTED PERSONAL DATA</td>\n",
       "    </tr>\n",
       "  </tbody>\n",
       "</table>\n",
       "</div>"
      ],
      "text/plain": [
       "  Capital or Revenue                        Directorate  Transaction Number  \\\n",
       "0            Revenue  Community Wellbeing & Social Care          5105636098   \n",
       "1            Revenue  Community Wellbeing & Social Care          5105635705   \n",
       "2            Revenue                 Childrens Services          5105637261   \n",
       "3            Revenue  Community Wellbeing & Social Care          5105637069   \n",
       "4            Revenue  Community Wellbeing & Social Care          5105637605   \n",
       "\n",
       "         Date                         Service Area  \\\n",
       "0  13.11.2013             Public Libraries Central   \n",
       "1  08.11.2013                 Drug Misuse - Adults   \n",
       "2  20.11.2013  Thompson House Tuition Centre (PRU)   \n",
       "3  27.11.2013                  Safeguarding Adults   \n",
       "4  22.11.2013                     Leaseholds by LA   \n",
       "\n",
       "                                Expenses Type    Amount  \\\n",
       "0                             Marketing Costs    200.00   \n",
       "1          Charges from Independent Providers    120.00   \n",
       "2                       Professional Services    240.00   \n",
       "3                       Professional Services  5,285.00   \n",
       "4  Accommodation Costs - Leaseholder Payments    695.89   \n",
       "\n",
       "                        Supplier Name  \n",
       "0              REDACTED PERSONAL DATA  \n",
       "1              REDACTED PERSONAL DATA  \n",
       "2  * M BOWDERY T/A SPOTLIGHT BOUTIQUE  \n",
       "3              REDACTED PERSONAL DATA  \n",
       "4              REDACTED PERSONAL DATA  "
      ]
     },
     "execution_count": 16,
     "metadata": {},
     "output_type": "execute_result"
    }
   ],
   "source": [
    "pd.read_csv('data/iwCouncilSpending/csvFromWeb.csv', nrows=5, header=None, names=origNames)"
   ]
  },
  {
   "cell_type": "markdown",
   "metadata": {},
   "source": [
    "To read in just a specific set of columns, use the `usecols` parameter."
   ]
  },
  {
   "cell_type": "code",
   "execution_count": 17,
   "metadata": {
    "run_control": {
     "read_only": false
    }
   },
   "outputs": [
    {
     "data": {
      "text/html": [
       "<div>\n",
       "<style scoped>\n",
       "    .dataframe tbody tr th:only-of-type {\n",
       "        vertical-align: middle;\n",
       "    }\n",
       "\n",
       "    .dataframe tbody tr th {\n",
       "        vertical-align: top;\n",
       "    }\n",
       "\n",
       "    .dataframe thead th {\n",
       "        text-align: right;\n",
       "    }\n",
       "</style>\n",
       "<table border=\"1\" class=\"dataframe\">\n",
       "  <thead>\n",
       "    <tr style=\"text-align: right;\">\n",
       "      <th></th>\n",
       "      <th>Transaction Number</th>\n",
       "      <th>Date</th>\n",
       "      <th>Amount</th>\n",
       "    </tr>\n",
       "  </thead>\n",
       "  <tbody>\n",
       "    <tr>\n",
       "      <th>0</th>\n",
       "      <td>5105636098</td>\n",
       "      <td>13.11.2013</td>\n",
       "      <td>200.0</td>\n",
       "    </tr>\n",
       "    <tr>\n",
       "      <th>1</th>\n",
       "      <td>5105635705</td>\n",
       "      <td>08.11.2013</td>\n",
       "      <td>120.0</td>\n",
       "    </tr>\n",
       "    <tr>\n",
       "      <th>2</th>\n",
       "      <td>5105637261</td>\n",
       "      <td>20.11.2013</td>\n",
       "      <td>240.0</td>\n",
       "    </tr>\n",
       "  </tbody>\n",
       "</table>\n",
       "</div>"
      ],
      "text/plain": [
       "   Transaction Number        Date  Amount\n",
       "0          5105636098  13.11.2013   200.0\n",
       "1          5105635705  08.11.2013   120.0\n",
       "2          5105637261  20.11.2013   240.0"
      ]
     },
     "execution_count": 17,
     "metadata": {},
     "output_type": "execute_result"
    }
   ],
   "source": [
    "tmp = pd.read_csv('data/iwCouncilSpending/sample1.csv', nrows=3, usecols=['Date','Transaction Number','Amount'])\n",
    "tmp"
   ]
  },
  {
   "cell_type": "markdown",
   "metadata": {},
   "source": [
    "For more information on `read_csv()`, see the *pandas* documentation: [pandas.io.parsers.read_csv](http://pandas.pydata.org/pandas-docs/stable/generated/pandas.io.parsers.read_csv.html).\n",
    "\n",
    "For more information on `DataFrame.to_csv()`, see the *pandas* documentation for  [pandas.DataFrame.to_csv](http://pandas.pydata.org/pandas-docs/stable/generated/pandas.DataFrame.to_csv.html)."
   ]
  },
  {
   "cell_type": "markdown",
   "metadata": {},
   "source": [
    "### Typing data in columns"
   ]
  },
  {
   "cell_type": "markdown",
   "metadata": {},
   "source": [
    "In many cases a CSV file will contain columns of data that conform to a particular type, although the type may not be detected when the data is simply read in."
   ]
  },
  {
   "cell_type": "code",
   "execution_count": 18,
   "metadata": {
    "run_control": {
     "read_only": false
    }
   },
   "outputs": [
    {
     "data": {
      "text/plain": [
       "Capital or Revenue    object\n",
       "Directorate           object\n",
       "Transaction Number    object\n",
       "Date                  object\n",
       "Service Area          object\n",
       "Expenses Type         object\n",
       "Amount                object\n",
       "Supplier Name         object\n",
       "dtype: object"
      ]
     },
     "execution_count": 18,
     "metadata": {},
     "output_type": "execute_result"
    }
   ],
   "source": [
    "# We need to specify the encoding of this file or it will not be opened.\n",
    "# A good guess for the filetype of a CSV file that does not open with \n",
    "#    the default settings is ISO-8859-1 or equivalently latin-1.\n",
    "\n",
    "#For some notes on how to try to find what encoding a particular file is\n",
    "#see the 02.2.0 Data file formats - file encodings Notebook.\n",
    "\n",
    "df = pd.read_csv('data/iwCouncilSpending/PUBLISHED FORMAT - NOV 2013.csv', encoding=\"ISO-8859-1\")\n",
    "df.dtypes"
   ]
  },
  {
   "cell_type": "markdown",
   "metadata": {},
   "source": [
    "Another useful test to run on one or more columns is a summary review of the unique values that exist within a column."
   ]
  },
  {
   "cell_type": "code",
   "execution_count": 19,
   "metadata": {
    "run_control": {
     "read_only": false
    }
   },
   "outputs": [
    {
     "data": {
      "text/plain": [
       "array(['Community Wellbeing & Social Care', 'Childrens Services',\n",
       "       'Economy & Environment', 'Resources', 'Corporate'], dtype=object)"
      ]
     },
     "execution_count": 19,
     "metadata": {},
     "output_type": "execute_result"
    }
   ],
   "source": [
    "uniquevalues = df['Directorate'].unique()\n",
    "uniquevalues"
   ]
  },
  {
   "cell_type": "raw",
   "metadata": {},
   "source": [
    "One thing we may want to do is cast a column to a particular type - for example, we might want to cast the `Amount` column to a number of type `float`.\n",
    "\n",
    "One way of trying to do this is using the _pandas_ `to_numeric()` function to convert the values in the `Amount` column to a numeric type:"
   ]
  },
  {
   "cell_type": "code",
   "execution_count": 20,
   "metadata": {
    "run_control": {
     "read_only": false
    }
   },
   "outputs": [
    {
     "ename": "ValueError",
     "evalue": "Unable to parse string \"5,285.00\" at position 3",
     "output_type": "error",
     "traceback": [
      "\u001b[1;31m---------------------------------------------------------------------------\u001b[0m",
      "\u001b[1;31mValueError\u001b[0m                                Traceback (most recent call last)",
      "File \u001b[1;32mI:\\ana\\lib\\site-packages\\pandas\\_libs\\lib.pyx:2315\u001b[0m, in \u001b[0;36mpandas._libs.lib.maybe_convert_numeric\u001b[1;34m()\u001b[0m\n",
      "\u001b[1;31mValueError\u001b[0m: Unable to parse string \"5,285.00\"",
      "\nDuring handling of the above exception, another exception occurred:\n",
      "\u001b[1;31mValueError\u001b[0m                                Traceback (most recent call last)",
      "Input \u001b[1;32mIn [20]\u001b[0m, in \u001b[0;36m<cell line: 2>\u001b[1;34m()\u001b[0m\n\u001b[0;32m      1\u001b[0m \u001b[38;5;66;03m# This will fail with an error message\u001b[39;00m\n\u001b[1;32m----> 2\u001b[0m \u001b[43mpd\u001b[49m\u001b[38;5;241;43m.\u001b[39;49m\u001b[43mto_numeric\u001b[49m\u001b[43m(\u001b[49m\u001b[43mdf\u001b[49m\u001b[43m[\u001b[49m\u001b[38;5;124;43m'\u001b[39;49m\u001b[38;5;124;43mAmount\u001b[39;49m\u001b[38;5;124;43m'\u001b[39;49m\u001b[43m]\u001b[49m\u001b[43m)\u001b[49m\n",
      "File \u001b[1;32mI:\\ana\\lib\\site-packages\\pandas\\core\\tools\\numeric.py:184\u001b[0m, in \u001b[0;36mto_numeric\u001b[1;34m(arg, errors, downcast)\u001b[0m\n\u001b[0;32m    182\u001b[0m coerce_numeric \u001b[38;5;241m=\u001b[39m errors \u001b[38;5;129;01mnot\u001b[39;00m \u001b[38;5;129;01min\u001b[39;00m (\u001b[38;5;124m\"\u001b[39m\u001b[38;5;124mignore\u001b[39m\u001b[38;5;124m\"\u001b[39m, \u001b[38;5;124m\"\u001b[39m\u001b[38;5;124mraise\u001b[39m\u001b[38;5;124m\"\u001b[39m)\n\u001b[0;32m    183\u001b[0m \u001b[38;5;28;01mtry\u001b[39;00m:\n\u001b[1;32m--> 184\u001b[0m     values, _ \u001b[38;5;241m=\u001b[39m \u001b[43mlib\u001b[49m\u001b[38;5;241;43m.\u001b[39;49m\u001b[43mmaybe_convert_numeric\u001b[49m\u001b[43m(\u001b[49m\n\u001b[0;32m    185\u001b[0m \u001b[43m        \u001b[49m\u001b[43mvalues\u001b[49m\u001b[43m,\u001b[49m\u001b[43m \u001b[49m\u001b[38;5;28;43mset\u001b[39;49m\u001b[43m(\u001b[49m\u001b[43m)\u001b[49m\u001b[43m,\u001b[49m\u001b[43m \u001b[49m\u001b[43mcoerce_numeric\u001b[49m\u001b[38;5;241;43m=\u001b[39;49m\u001b[43mcoerce_numeric\u001b[49m\n\u001b[0;32m    186\u001b[0m \u001b[43m    \u001b[49m\u001b[43m)\u001b[49m\n\u001b[0;32m    187\u001b[0m \u001b[38;5;28;01mexcept\u001b[39;00m (\u001b[38;5;167;01mValueError\u001b[39;00m, \u001b[38;5;167;01mTypeError\u001b[39;00m):\n\u001b[0;32m    188\u001b[0m     \u001b[38;5;28;01mif\u001b[39;00m errors \u001b[38;5;241m==\u001b[39m \u001b[38;5;124m\"\u001b[39m\u001b[38;5;124mraise\u001b[39m\u001b[38;5;124m\"\u001b[39m:\n",
      "File \u001b[1;32mI:\\ana\\lib\\site-packages\\pandas\\_libs\\lib.pyx:2357\u001b[0m, in \u001b[0;36mpandas._libs.lib.maybe_convert_numeric\u001b[1;34m()\u001b[0m\n",
      "\u001b[1;31mValueError\u001b[0m: Unable to parse string \"5,285.00\" at position 3"
     ]
    }
   ],
   "source": [
    "# This will fail with an error message\n",
    "pd.to_numeric(df['Amount'])"
   ]
  },
  {
   "cell_type": "code",
   "execution_count": null,
   "metadata": {
    "run_control": {
     "read_only": false
    }
   },
   "outputs": [],
   "source": [
    "# Do the same again, but this time tell the to_numeric() function \n",
    "# to ignore any errors while it attempts the conversion\n",
    "pd.to_numeric(df['Amount'], errors='ignore') "
   ]
  },
  {
   "cell_type": "markdown",
   "metadata": {},
   "source": [
    "Unfortunately, the comma in the value `5,285.00` in the third row means this entry is seen as a string that cannot be simply converted to a number.\n",
    "\n",
    "What happens if we try a more direct route, saying we specifically want to cast the values in the column to a `float` type?"
   ]
  },
  {
   "cell_type": "markdown",
   "metadata": {},
   "source": [
    "A solution to this is to get rid of the comma using a `str.replace()` function applied to each value in the column, and then use the `to_numeric()` function:"
   ]
  },
  {
   "cell_type": "code",
   "execution_count": null,
   "metadata": {
    "run_control": {
     "read_only": false
    }
   },
   "outputs": [],
   "source": [
    "pd.to_numeric(df['Amount'].str.replace(',',''))"
   ]
  },
  {
   "cell_type": "markdown",
   "metadata": {},
   "source": [
    "However, there is an easier way. With delimiters commonly being used to separate 'thousands' in many number strings, _pandas_ usefully provides a way of automatically handling these as the CSV file is read. Specifically, you can handle the separator automatically by setting the `thousands` parameter appropriately."
   ]
  },
  {
   "cell_type": "code",
   "execution_count": null,
   "metadata": {
    "run_control": {
     "read_only": false
    }
   },
   "outputs": [],
   "source": [
    "df = pd.read_csv('data/iwCouncilSpending/PUBLISHED FORMAT - NOV 2013.csv', thousands=',',\n",
    "                  encoding=\"latin-1\")\n",
    "df.dtypes"
   ]
  },
  {
   "cell_type": "markdown",
   "metadata": {},
   "source": [
    "If the `read_csv()` function can identify a column type unambiguously, it will do so. For example, if we just use the first few lines of the CSV file, we see how the `Amount` column values can all be cast directly to an appropriate numeric type without error and as a result the `read_csv()` function does cast the column type automatically."
   ]
  },
  {
   "cell_type": "code",
   "execution_count": null,
   "metadata": {
    "run_control": {
     "read_only": false
    }
   },
   "outputs": [],
   "source": [
    "df = pd.read_csv('data/iwCouncilSpending/PUBLISHED FORMAT - NOV 2013.csv', nrows=3)\n",
    "df.dtypes"
   ]
  },
  {
   "cell_type": "markdown",
   "metadata": {},
   "source": [
    "Notice that the file loaded that time without an error, but without setting the encoding. \n",
    "Why? \n",
    "\n",
    "We only loaded in the first three lines - presumably the encoded characters that were causing the problem are not in these three lines.\n",
    "\n",
    "We can also try to force the type using the `dtype` parameter, though if an illegal cast is attempted an error will be raised."
   ]
  },
  {
   "cell_type": "code",
   "execution_count": null,
   "metadata": {
    "run_control": {
     "read_only": false
    }
   },
   "outputs": [],
   "source": [
    "df = pd.read_csv('data/iwCouncilSpending/PUBLISHED FORMAT - NOV 2013.csv',\n",
    "                  nrows=3, dtype={'Transaction Number':float})\n",
    "df.dtypes"
   ]
  },
  {
   "cell_type": "markdown",
   "metadata": {},
   "source": [
    "### Parsing dates"
   ]
  },
  {
   "cell_type": "markdown",
   "metadata": {},
   "source": [
    "One column type that appears in many datasets is dates, or dates and times, although the way in which dates are actually presented may vary widely from dataset to dataset. For example, 12/3/14, 12-Mar-2014 and 2014-03-12 all represent the same date. If we specify the name of a date column, _pandas_ `read_csv()` will try to automatically detect the corresponding date representation.  "
   ]
  },
  {
   "cell_type": "code",
   "execution_count": null,
   "metadata": {
    "run_control": {
     "read_only": false
    }
   },
   "outputs": [],
   "source": [
    "df = pd.read_csv('data/iwCouncilSpending/PUBLISHED FORMAT - NOV 2013.csv',\n",
    "                 parse_dates=['Date'], encoding=\"latin-1\")\n",
    "df.dtypes"
   ]
  },
  {
   "cell_type": "markdown",
   "metadata": {},
   "source": [
    "Sometimes there may be ambiguity about whether the day or month is provided first. For example is 1/2/13 the 1st of February or a US styled 2nd of January? Specifying `dayfirst=True` clearly identifies the first convention should be assumed.\n",
    "\n",
    "A date format can also be declared explicitly - to see how, check the documentation: [pandas.io.parsers.read_csv](http://pandas.pydata.org/pandas-docs/stable/generated/pandas.io.parsers.read_csv.html)."
   ]
  },
  {
   "cell_type": "markdown",
   "metadata": {},
   "source": [
    "## Summary\n",
    "In this Notebook you have seen how to:\n",
    "1. use a range of Unix commands to find out what is in a file\n",
    "2. use *pandas* to read a CSV file\n",
    "3. write data in a DataFrame to a CSV file\n",
    "4. examine the datatypes and parse dates when reading a CSV file\n",
    "5. You've also been reminded where the *pandas* and Dataframe documentation can be found.\n"
   ]
  },
  {
   "cell_type": "markdown",
   "metadata": {},
   "source": [
    "## What next?"
   ]
  },
  {
   "cell_type": "markdown",
   "metadata": {},
   "source": [
    "If you are working through this Notebook as part of an inline exercise, return to the module materials now.\n",
    "\n",
    "If you are working through this set of Notebooks as a whole, move on to look at `02.2.2 Data File Formats - JSON`. "
   ]
  }
 ],
 "metadata": {
  "kernelspec": {
   "display_name": "Python 3 (ipykernel)",
   "language": "python",
   "name": "python3"
  },
  "language_info": {
   "codemirror_mode": {
    "name": "ipython",
    "version": 3
   },
   "file_extension": ".py",
   "mimetype": "text/x-python",
   "name": "python",
   "nbconvert_exporter": "python",
   "pygments_lexer": "ipython3",
   "version": "3.9.12"
  }
 },
 "nbformat": 4,
 "nbformat_minor": 2
}
